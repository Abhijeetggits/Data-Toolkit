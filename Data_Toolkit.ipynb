{
  "nbformat": 4,
  "nbformat_minor": 0,
  "metadata": {
    "colab": {
      "provenance": []
    },
    "kernelspec": {
      "name": "python3",
      "display_name": "Python 3"
    },
    "language_info": {
      "name": "python"
    }
  },
  "cells": [
    {
      "cell_type": "code",
      "execution_count": null,
      "metadata": {
        "id": "eS3qRKP4nFAf"
      },
      "outputs": [],
      "source": [
        "# Data Toolkit"
      ]
    },
    {
      "cell_type": "markdown",
      "source": [
        "# 1.What is NumPy, and why is it widely used in Python?\n",
        "\n",
        "  -> NumPy (Numerical Python) is an open-source Python library used for\n",
        "       scientific and numerical computing. It provides support for large, multi-dimensional arrays and matrices, along with a collection of mathematical functions to operate on them.\n",
        "\n",
        "\n",
        "      Why is NumPy Widely Used?\n",
        "      Reason\tExplanation\n",
        "\n",
        "       Speed\tNumPy operations are implemented in C, making them much faster than regular Python lists.\n",
        "       Efficiency\tHandles large datasets more efficiently than Python's built-in lists.\n",
        "       Simplicity\tProvides simple syntax and powerful array operations.\n",
        "       Foundation for other libraries\tLibraries like Pandas, SciPy, TensorFlow, and scikit-learn are built on top of NumPy.\n",
        "       Community and Support\tLarge community and extensive documentation.\n",
        "\n",
        "\n"
      ],
      "metadata": {
        "id": "ktoOtbWjnc3i"
      }
    },
    {
      "cell_type": "markdown",
      "source": [
        " # 2. A How does broadcasting work in NumPy?\n",
        "\n",
        "  -> Broadcasting in NumPy is a powerful feature that allows arithmetic\n",
        "      operations on arrays of different shapes, as long as they are compatible according to specific rules.\n"
      ],
      "metadata": {
        "id": "kfgDb040pIsJ"
      }
    },
    {
      "cell_type": "markdown",
      "source": [
        "# 3.What is a Pandas DataFrame?\n",
        "\n",
        "  -> A Pandas DataFrame is a 2-dimensional, labeled data structure in\n",
        "      Python that looks like a table (similar to an Excel spreadsheet or SQL table). It is part of the Pandas library, which is widely used for data analysis and manipulation."
      ],
      "metadata": {
        "id": "Bd_qi1c5plzI"
      }
    },
    {
      "cell_type": "markdown",
      "source": [
        "# 4. Explain the use of the groupby() method in Pandas?\n",
        "\n",
        "  -> The groupby() method in Pandas is used to split a DataFrame into\n",
        "      groups based on one or more columns, and then apply a function (like sum, mean, count, etc.) to each group."
      ],
      "metadata": {
        "id": "ZuXV4P_1p_OU"
      }
    },
    {
      "cell_type": "markdown",
      "source": [
        "# 5. Why is Seaborn preferred for statistical visualizations?\n",
        "\n",
        "  -> Seaborn is a Python data visualization library built on top of\n",
        "      Matplotlib and closely integrated with Pandas. It is preferred for statistical visualizations because it makes complex plots easier to create and provides built-in support for many statistical tasks."
      ],
      "metadata": {
        "id": "kSCw9BcrqXAX"
      }
    },
    {
      "cell_type": "markdown",
      "source": [
        "# 6. What are the differences between NumPy arrays and Python lists?\n",
        "\n",
        " -> A Pandas DataFrame is a two-dimensional data structure where data is\n",
        "     organized in rows and columns, similar to an Excel sheet. It supports labeled rows and columns, making it very useful for data analysis tasks like filtering, sorting, grouping, and more. It’s built for handling structured data efficiently.\n",
        "\n",
        "    On the other hand, a Python List is a basic, one-dimensional structure used to store a collection of items. It can contain mixed data types like integers, strings, or even other lists. However, it does not support labels or built-in data analysis tools.\n",
        "\n",
        "    In short, use a DataFrame when working with structured/tabular data, and use a list for simple, general-purpose storage of values"
      ],
      "metadata": {
        "id": "amivDNyLqlyp"
      }
    },
    {
      "cell_type": "markdown",
      "source": [
        "# 7. What is a heatmap, and when should it be used?\n",
        "\n",
        " -> A heatmap is a data visualization technique that uses color to\n",
        "    represent the values of data points in a matrix or 2D grid. Higher or lower values are shown using varying shades (usually from cool to warm colors like blue to red)"
      ],
      "metadata": {
        "id": "YqKVXfT7r1zs"
      }
    },
    {
      "cell_type": "markdown",
      "source": [
        "# 8. A What does the term “vectorized  \"operation” mean in NumPy?\n",
        "\n",
        " -> In NumPy, a vectorized operation means performing operations on entire\n",
        "     arrays (vectors, matrices, etc.) without using explicit loops. It allows you to write fast, clean, and efficient code."
      ],
      "metadata": {
        "id": "V02XbgSCsGIy"
      }
    },
    {
      "cell_type": "markdown",
      "source": [
        "# 9. How does Matplotlib differ from Plotly?\n",
        "\n",
        " -> Matplotlib and Plotly are both popular Python libraries for data\n",
        "     visualization, but they differ in interactivity, ease of use, and purpose. Here's a clear explanation:"
      ],
      "metadata": {
        "id": "sUluJ3HcsX7j"
      }
    },
    {
      "cell_type": "markdown",
      "source": [
        "# 10. What is the significance of hierarchical indexing in Pandas?\n",
        "\n",
        " -> Hierarchical indexing (also called MultiIndexing) in Pandas allows you\n",
        "     to have multiple levels of indexes (rows or columns) in a DataFrame or Series. It helps in organizing, accessing, and analyzing complex datasets in a structured and flexible way."
      ],
      "metadata": {
        "id": "YQjLDa74sjCH"
      }
    },
    {
      "cell_type": "markdown",
      "source": [
        "# 11. What is the role of Seaborn’s pairplot() function?\n",
        "\n",
        " -> The pairplot() function in Seaborn is used to create a matrix of\n",
        "      scatter plots (and histograms/ KDEs) that shows the pairwise relationships between all numerical variables in a dataset.\n",
        "\n"
      ],
      "metadata": {
        "id": "mWkDD0GBsyXd"
      }
    },
    {
      "cell_type": "markdown",
      "source": [
        "# 12. What is the purpose of the describe() function in Pandas?\n",
        "\n",
        " -> The describe() function in Pandas is used to generate summary\n",
        "     statistics of a DataFrame or Series. It provides quick insights into the distribution, central tendency, and spread of the data."
      ],
      "metadata": {
        "id": "2CP-PzlDs8j_"
      }
    },
    {
      "cell_type": "markdown",
      "source": [
        "# 13. Why is handling missing data important in Pandas?\n",
        "\n",
        " -> Handling missing data is a crucial step in data analysis and machine\n",
        "     learning. In Pandas, missing values are typically represented as NaN (Not a Number). Ignoring them can lead to incorrect analysis, errors in computation, or biased results.\n",
        "\n",
        "\n"
      ],
      "metadata": {
        "id": "syDfNwvxtPl3"
      }
    },
    {
      "cell_type": "markdown",
      "source": [
        "# 14. What are the benefits of using Plotly for data visualization?\n",
        "\n",
        " -> Plotly is a powerful and  \n",
        "     interactive data visualization library in Python. It offers a wide range of chart types and is especially well-suited for creating interactive, web-based visualizations."
      ],
      "metadata": {
        "id": "ztRX_jTytaJP"
      }
    },
    {
      "cell_type": "markdown",
      "source": [
        "# 15.  How does NumPy handle\n",
        "   multidimensional arrays?\n",
        "\n",
        " -> NumPy handles multidimensional\n",
        "     arrays using its powerful data structure called the ndarray (N-dimensional array). These arrays can have any number of dimensions, such as 1D (vector), 2D (matrix), 3D (tensor), and higher."
      ],
      "metadata": {
        "id": "oH0eTNCktn-5"
      }
    },
    {
      "cell_type": "markdown",
      "source": [
        "# 16. What is the role of Bokeh in data visualization?\n",
        "\n",
        " -> Bokeh helps you create interactive,\n",
        "     browser-based plots and dashboards that can be easily embedded into websites or web applications — without needing JavaScript."
      ],
      "metadata": {
        "id": "YuZcYIjFt1H9"
      }
    },
    {
      "cell_type": "markdown",
      "source": [
        "# 17. A Explain the difference between apply() and map() in PandasA?\n",
        "\n",
        " -> In Pandas, both apply() and map()\n",
        "    are used to apply a function to data, but they work in different ways.\n",
        "\n",
        "     The **map()** function is used only with a Pandas Series (i.e., a single column). It applies a function element by element. You can use it to transform values in a single column using a function, a dictionary, or another Series. It is useful for simple, one-dimensional transformations.\n",
        "\n",
        "       example:\n",
        "          s = pd.Series([1, 2, 3])\n",
        "       s.map(lambda x: x * 2)\n",
        "       # Output: 2, 4, 6\n",
        "      \n",
        "\n",
        "      On the other hand, **apply()** can be used with both Series and DataFrames. It is more powerful and flexible. When used on a DataFrame, it can apply a function to each row or each column. This makes it suitable for complex operations that depend on multiple values.\n",
        "       example:-\n",
        "       \n",
        "       df = pd.DataFrame({'A': [1, 2], 'B': [3, 4]})\n",
        "      df.apply(lambda x: x.sum())\n",
        "      # Output: Sum of each column\n",
        "\n"
      ],
      "metadata": {
        "id": "hYO2KskzuCE5"
      }
    },
    {
      "cell_type": "markdown",
      "source": [
        "# 18. What are some advanced features of NumPy?\n",
        "\n",
        " -> NumPy is a powerful numerical\n",
        "     computing library in Python. Besides basic array creation and arithmetic, it offers many advanced features that make it ideal for scientific computing, data analysis, and machine learning."
      ],
      "metadata": {
        "id": "MtixNJvUu4nL"
      }
    },
    {
      "cell_type": "markdown",
      "source": [
        "# 19. How does Pandas simplify time series analysis?\n",
        "\n",
        " -> Pandas makes time series analysis  \n",
        "     in Python easy, powerful, and efficient by providing specialized tools for handling date/time data, resampling, shifting, and rolling calculations. It is widely used for financial data, stock prices, sensor data, and log data analysis."
      ],
      "metadata": {
        "id": "PK12wMRRvEve"
      }
    },
    {
      "cell_type": "markdown",
      "source": [
        "# 20. What is the role of a pivot table in Pandas?\n",
        "\n",
        " -> In Pandas, a pivot table is a powerful tool used to summarize, group,\n",
        "     and rearrange data in a flexible and readable format. It allows you to analyze data across multiple dimensions by aggregating values based on categories (rows and columns)."
      ],
      "metadata": {
        "id": "CvMbvJgcvRpk"
      }
    },
    {
      "cell_type": "markdown",
      "source": [
        "# 21. A Why is NumPy’s array slicing faster than Python’s list slicing?\n",
        "\n",
        " -> 1. Contiguous Memory Allocation (C-Based)\n",
        "       NumPy arrays are stored in a single continuous block of memory, like arrays in C. This allows faster access and operations, especially when slicing or applying functions.\n",
        "\n",
        "       Python lists, on the other hand, are collections of pointers to objects scattered in memory, which takes more time to access.\n",
        "\n",
        "   2. No Data Copy During Slicing\n",
        "      When you slice a NumPy array, it returns a view (a window into the original data), not a copy. This saves time and memory.\n",
        "\n",
        "      In contrast, slicing a Python list creates a new copy of the data, which takes more time and uses more memory.\n",
        "\n",
        "   3. Low-Level Optimizations\n",
        "      NumPy is built on high-performance C and Fortran code, making its operations (including slicing) much faster than regular Python operations.\n",
        "\n",
        "   4. Vectorized & Compiled Execution\n",
        "      NumPy avoids slow Python loops and uses compiled routines that execute slicing and operations at machine speed.\n",
        "\n"
      ],
      "metadata": {
        "id": "og8_eD6jvje9"
      }
    },
    {
      "cell_type": "markdown",
      "source": [
        "# 22. What are some common use cases for Seaborn?\n",
        "\n",
        " -> Seaborn is a Python data            \n",
        "    visualization library built on top of Matplotlib. It is designed for making attractive, informative, and statistical graphics easily. It works especially well with Pandas DataFrames."
      ],
      "metadata": {
        "id": "hBs9x14fv9J9"
      }
    },
    {
      "cell_type": "markdown",
      "source": [
        "    # Practical  "
      ],
      "metadata": {
        "id": "X7uOy5CkySL5"
      }
    },
    {
      "cell_type": "code",
      "source": [
        "# 1.  How do you create a 2D NumPy array and calculate the sum of each row\n",
        "import numpy as np\n",
        "\n",
        "# Step 1: Create a 2D array\n",
        "arr = np.array([[1, 2, 3],\n",
        "                [4, 5, 6],\n",
        "                [7, 8, 9]])\n",
        "\n",
        "# Step 2: Calculate sum of each row\n",
        "row_sum = np.sum(arr, axis=1)\n",
        "\n",
        "# Step 3: Print result\n",
        "print(\"2D Array:\\n\", arr)\n",
        "print(\"Sum of each row:\", row_sum)\n",
        ""
      ],
      "metadata": {
        "colab": {
          "base_uri": "https://localhost:8080/"
        },
        "id": "8XZ89P8VyZhz",
        "outputId": "8f759476-84f6-4906-ddf0-6ae1b5d32b5e"
      },
      "execution_count": 2,
      "outputs": [
        {
          "output_type": "stream",
          "name": "stdout",
          "text": [
            "2D Array:\n",
            " [[1 2 3]\n",
            " [4 5 6]\n",
            " [7 8 9]]\n",
            "Sum of each row: [ 6 15 24]\n"
          ]
        }
      ]
    },
    {
      "cell_type": "code",
      "source": [
        "# 2. Write a Pandas script to find the mean of a specific column in a DataFrame\n",
        "import pandas as pd\n",
        "\n",
        "# Step 1: Create a DataFrame\n",
        "data = {\n",
        "    'Name': ['Alice', 'Bob', 'Charlie', 'David'],\n",
        "    'Age': [25, 30, 35, 28]\n",
        "}\n",
        "\n",
        "df = pd.DataFrame(data)\n",
        "\n",
        "# Step 2: Calculate the mean of the 'Age' column\n",
        "mean_age = df['Age'].mean()\n",
        "\n",
        "# Step 3: Print the result\n",
        "print(\"Mean of Age column:\", mean_age)\n"
      ],
      "metadata": {
        "colab": {
          "base_uri": "https://localhost:8080/"
        },
        "id": "Jk0UPZ44zIzG",
        "outputId": "ca7c9db8-e7f7-49aa-8453-56da8cb46396"
      },
      "execution_count": 3,
      "outputs": [
        {
          "output_type": "stream",
          "name": "stdout",
          "text": [
            "Mean of Age column: 29.5\n"
          ]
        }
      ]
    },
    {
      "cell_type": "code",
      "source": [
        "# 3.Create a scatter plot using Matplotlib?\n",
        "import matplotlib.pyplot as plt\n",
        "\n",
        "# Step 1: Sample data\n",
        "x = [10, 20, 30, 40, 50]\n",
        "y = [8, 25, 18, 35, 50]\n",
        "\n",
        "# Step 2: Create scatter plot\n",
        "plt.scatter(x, y, color='blue', marker='o', s=100)\n",
        "\n",
        "# Step 3: Add title and labels\n",
        "plt.title(\"Simple Scatter Plot\")\n",
        "plt.xlabel(\"X-axis\")\n",
        "plt.ylabel(\"Y-axis\")\n",
        "\n",
        "# Step 4: Show plot\n",
        "plt.show()\n"
      ],
      "metadata": {
        "colab": {
          "base_uri": "https://localhost:8080/",
          "height": 472
        },
        "id": "m0wP174_zRAp",
        "outputId": "dab85759-6318-441c-ce6d-3e97357de664"
      },
      "execution_count": 4,
      "outputs": [
        {
          "output_type": "display_data",
          "data": {
            "text/plain": [
              "<Figure size 640x480 with 1 Axes>"
            ],
            "image/png": "[encoded data removed]"
          },
          "metadata": {}
        }
      ]
    },
    {
      "cell_type": "code",
      "source": [
        "# 4. How do you calculate the correlation matrix using Seaborn and visualize it with a heatmap.\n",
        "import pandas as pd\n",
        "import seaborn as sns\n",
        "import matplotlib.pyplot as plt\n",
        "\n",
        "data = {\n",
        "    'Math': [85, 90, 78, 92, 88],\n",
        "    'Science': [82, 95, 75, 89, 85],\n",
        "    'English': [78, 85, 80, 86, 83]\n",
        "}\n",
        "df = pd.DataFrame(data)\n",
        "\n",
        "corr_matrix = df.corr()\n",
        "\n",
        "sns.heatmap(corr_matrix, annot=True, cmap='coolwarm', linewidths=0.5)\n",
        "plt.title(\"Correlation Matrix Heatmap\")\n",
        "plt.show()\n"
      ],
      "metadata": {
        "colab": {
          "base_uri": "https://localhost:8080/",
          "height": 452
        },
        "id": "He98qM48zrO-",
        "outputId": "2efb2c8a-caf8-4f76-9ff4-7bd739e10d13"
      },
      "execution_count": 5,
      "outputs": [
        {
          "output_type": "display_data",
          "data": {
            "text/plain": [
              "<Figure size 640x480 with 2 Axes>"
            ],
            "image/png": "[encoded data removed]"
          },
          "metadata": {}
        }
      ]
    },
    {
      "cell_type": "code",
      "source": [
        "# 5. Generate a bar plot using Plotly.\n",
        "import plotly.express as px\n",
        "import pandas as pd\n",
        "\n",
        "data = {\n",
        "    'Category': ['A', 'B', 'C', 'D'],\n",
        "    'Values': [23, 45, 12, 37]\n",
        "}\n",
        "df = pd.DataFrame(data)\n",
        "\n",
        "fig = px.bar(df, x='Category', y='Values', title='Simple Bar Plot')\n",
        "fig.show()\n"
      ],
      "metadata": {
        "colab": {
          "base_uri": "https://localhost:8080/",
          "height": 542
        },
        "id": "63zMy09yz93R",
        "outputId": "ccea2aac-9499-40be-e8e2-eb444b29eb29"
      },
      "execution_count": 6,
      "outputs": [
        {
          "output_type": "display_data",
          "data": {
            "text/html": [
              "<html>\n",
              "<head><meta charset=\"utf-8\" /></head>\n",
              "<body>\n",
              "    <div>            <script src=\"https://cdnjs.cloudflare.com/ajax/libs/mathjax/2.7.5/MathJax.js?config=TeX-AMS-MML_SVG\"></script><script type=\"text/javascript\">if (window.MathJax && window.MathJax.Hub && window.MathJax.Hub.Config) {window.MathJax.Hub.Config({SVG: {font: \"STIX-Web\"}});}</script>                <script type=\"text/javascript\">window.PlotlyConfig = {MathJaxConfig: 'local'};</script>\n",
              "        <script charset=\"utf-8\" src=\"https://cdn.plot.ly/plotly-2.35.2.min.js\"></script>                <div id=\"fb6c39c0-4b69-4d94-b3e7-d0b6bbe69d17\" class=\"plotly-graph-div\" style=\"height:525px; width:100%;\"></div>            <script type=\"text/javascript\">                                    window.PLOTLYENV=window.PLOTLYENV || {};                                    if (document.getElementById(\"fb6c39c0-4b69-4d94-b3e7-d0b6bbe69d17\")) {                    Plotly.newPlot(                        \"fb6c39c0-4b69-4d94-b3e7-d0b6bbe69d17\",                        [{\"alignmentgroup\":\"True\",\"hovertemplate\":\"Category=%{x}\\u003cbr\\u003eValues=%{y}\\u003cextra\\u003e\\u003c\\u002fextra\\u003e\",\"legendgroup\":\"\",\"marker\":{\"color\":\"#636efa\",\"pattern\":{\"shape\":\"\"}},\"name\":\"\",\"offsetgroup\":\"\",\"orientation\":\"v\",\"showlegend\":false,\"textposition\":\"auto\",\"x\":[\"A\",\"B\",\"C\",\"D\"],\"xaxis\":\"x\",\"y\":[23,45,12,37],\"yaxis\":\"y\",\"type\":\"bar\"}],                        {\"template\":{\"data\":{\"histogram2dcontour\":[{\"type\":\"histogram2dcontour\",\"colorbar\":{\"outlinewidth\":0,\"ticks\":\"\"},\"colorscale\":[[0.0,\"#0d0887\"],[0.1111111111111111,\"#46039f\"],[0.2222222222222222,\"#7201a8\"],[0.3333333333333333,\"#9c179e\"],[0.4444444444444444,\"#bd3786\"],[0.5555555555555556,\"#d8576b\"],[0.6666666666666666,\"#ed7953\"],[0.7777777777777778,\"#fb9f3a\"],[0.8888888888888888,\"#fdca26\"],[1.0,\"#f0f921\"]]}],\"choropleth\":[{\"type\":\"choropleth\",\"colorbar\":{\"outlinewidth\":0,\"ticks\":\"\"}}],\"histogram2d\":[{\"type\":\"histogram2d\",\"colorbar\":{\"outlinewidth\":0,\"ticks\":\"\"},\"colorscale\":[[0.0,\"#0d0887\"],[0.1111111111111111,\"#46039f\"],[0.2222222222222222,\"#7201a8\"],[0.3333333333333333,\"#9c179e\"],[0.4444444444444444,\"#bd3786\"],[0.5555555555555556,\"#d8576b\"],[0.6666666666666666,\"#ed7953\"],[0.7777777777777778,\"#fb9f3a\"],[0.8888888888888888,\"#fdca26\"],[1.0,\"#f0f921\"]]}],\"heatmap\":[{\"type\":\"heatmap\",\"colorbar\":{\"outlinewidth\":0,\"ticks\":\"\"},\"colorscale\":[[0.0,\"#0d0887\"],[0.1111111111111111,\"#46039f\"],[0.2222222222222222,\"#7201a8\"],[0.3333333333333333,\"#9c179e\"],[0.4444444444444444,\"#bd3786\"],[0.5555555555555556,\"#d8576b\"],[0.6666666666666666,\"#ed7953\"],[0.7777777777777778,\"#fb9f3a\"],[0.8888888888888888,\"#fdca26\"],[1.0,\"#f0f921\"]]}],\"heatmapgl\":[{\"type\":\"heatmapgl\",\"colorbar\":{\"outlinewidth\":0,\"ticks\":\"\"},\"colorscale\":[[0.0,\"#0d0887\"],[0.1111111111111111,\"#46039f\"],[0.2222222222222222,\"#7201a8\"],[0.3333333333333333,\"#9c179e\"],[0.4444444444444444,\"#bd3786\"],[0.5555555555555556,\"#d8576b\"],[0.6666666666666666,\"#ed7953\"],[0.7777777777777778,\"#fb9f3a\"],[0.8888888888888888,\"#fdca26\"],[1.0,\"#f0f921\"]]}],\"contourcarpet\":[{\"type\":\"contourcarpet\",\"colorbar\":{\"outlinewidth\":0,\"ticks\":\"\"}}],\"contour\":[{\"type\":\"contour\",\"colorbar\":{\"outlinewidth\":0,\"ticks\":\"\"},\"colorscale\":[[0.0,\"#0d0887\"],[0.1111111111111111,\"#46039f\"],[0.2222222222222222,\"#7201a8\"],[0.3333333333333333,\"#9c179e\"],[0.4444444444444444,\"#bd3786\"],[0.5555555555555556,\"#d8576b\"],[0.6666666666666666,\"#ed7953\"],[0.7777777777777778,\"#fb9f3a\"],[0.8888888888888888,\"#fdca26\"],[1.0,\"#f0f921\"]]}],\"surface\":[{\"type\":\"surface\",\"colorbar\":{\"outlinewidth\":0,\"ticks\":\"\"},\"colorscale\":[[0.0,\"#0d0887\"],[0.1111111111111111,\"#46039f\"],[0.2222222222222222,\"#7201a8\"],[0.3333333333333333,\"#9c179e\"],[0.4444444444444444,\"#bd3786\"],[0.5555555555555556,\"#d8576b\"],[0.6666666666666666,\"#ed7953\"],[0.7777777777777778,\"#fb9f3a\"],[0.8888888888888888,\"#fdca26\"],[1.0,\"#f0f921\"]]}],\"mesh3d\":[{\"type\":\"mesh3d\",\"colorbar\":{\"outlinewidth\":0,\"ticks\":\"\"}}],\"scatter\":[{\"fillpattern\":{\"fillmode\":\"overlay\",\"size\":10,\"solidity\":0.2},\"type\":\"scatter\"}],\"parcoords\":[{\"type\":\"parcoords\",\"line\":{\"colorbar\":{\"outlinewidth\":0,\"ticks\":\"\"}}}],\"scatterpolargl\":[{\"type\":\"scatterpolargl\",\"marker\":{\"colorbar\":{\"outlinewidth\":0,\"ticks\":\"\"}}}],\"bar\":[{\"error_x\":{\"color\":\"#2a3f5f\"},\"error_y\":{\"color\":\"#2a3f5f\"},\"marker\":{\"line\":{\"color\":\"#E5ECF6\",\"width\":0.5},\"pattern\":{\"fillmode\":\"overlay\",\"size\":10,\"solidity\":0.2}},\"type\":\"bar\"}],\"scattergeo\":[{\"type\":\"scattergeo\",\"marker\":{\"colorbar\":{\"outlinewidth\":0,\"ticks\":\"\"}}}],\"scatterpolar\":[{\"type\":\"scatterpolar\",\"marker\":{\"colorbar\":{\"outlinewidth\":0,\"ticks\":\"\"}}}],\"histogram\":[{\"marker\":{\"pattern\":{\"fillmode\":\"overlay\",\"size\":10,\"solidity\":0.2}},\"type\":\"histogram\"}],\"scattergl\":[{\"type\":\"scattergl\",\"marker\":{\"colorbar\":{\"outlinewidth\":0,\"ticks\":\"\"}}}],\"scatter3d\":[{\"type\":\"scatter3d\",\"line\":{\"colorbar\":{\"outlinewidth\":0,\"ticks\":\"\"}},\"marker\":{\"colorbar\":{\"outlinewidth\":0,\"ticks\":\"\"}}}],\"scattermapbox\":[{\"type\":\"scattermapbox\",\"marker\":{\"colorbar\":{\"outlinewidth\":0,\"ticks\":\"\"}}}],\"scatterternary\":[{\"type\":\"scatterternary\",\"marker\":{\"colorbar\":{\"outlinewidth\":0,\"ticks\":\"\"}}}],\"scattercarpet\":[{\"type\":\"scattercarpet\",\"marker\":{\"colorbar\":{\"outlinewidth\":0,\"ticks\":\"\"}}}],\"carpet\":[{\"aaxis\":{\"endlinecolor\":\"#2a3f5f\",\"gridcolor\":\"white\",\"linecolor\":\"white\",\"minorgridcolor\":\"white\",\"startlinecolor\":\"#2a3f5f\"},\"baxis\":{\"endlinecolor\":\"#2a3f5f\",\"gridcolor\":\"white\",\"linecolor\":\"white\",\"minorgridcolor\":\"white\",\"startlinecolor\":\"#2a3f5f\"},\"type\":\"carpet\"}],\"table\":[{\"cells\":{\"fill\":{\"color\":\"#EBF0F8\"},\"line\":{\"color\":\"white\"}},\"header\":{\"fill\":{\"color\":\"#C8D4E3\"},\"line\":{\"color\":\"white\"}},\"type\":\"table\"}],\"barpolar\":[{\"marker\":{\"line\":{\"color\":\"#E5ECF6\",\"width\":0.5},\"pattern\":{\"fillmode\":\"overlay\",\"size\":10,\"solidity\":0.2}},\"type\":\"barpolar\"}],\"pie\":[{\"automargin\":true,\"type\":\"pie\"}]},\"layout\":{\"autotypenumbers\":\"strict\",\"colorway\":[\"#636efa\",\"#EF553B\",\"#00cc96\",\"#ab63fa\",\"#FFA15A\",\"#19d3f3\",\"#FF6692\",\"#B6E880\",\"#FF97FF\",\"#FECB52\"],\"font\":{\"color\":\"#2a3f5f\"},\"hovermode\":\"closest\",\"hoverlabel\":{\"align\":\"left\"},\"paper_bgcolor\":\"white\",\"plot_bgcolor\":\"#E5ECF6\",\"polar\":{\"bgcolor\":\"#E5ECF6\",\"angularaxis\":{\"gridcolor\":\"white\",\"linecolor\":\"white\",\"ticks\":\"\"},\"radialaxis\":{\"gridcolor\":\"white\",\"linecolor\":\"white\",\"ticks\":\"\"}},\"ternary\":{\"bgcolor\":\"#E5ECF6\",\"aaxis\":{\"gridcolor\":\"white\",\"linecolor\":\"white\",\"ticks\":\"\"},\"baxis\":{\"gridcolor\":\"white\",\"linecolor\":\"white\",\"ticks\":\"\"},\"caxis\":{\"gridcolor\":\"white\",\"linecolor\":\"white\",\"ticks\":\"\"}},\"coloraxis\":{\"colorbar\":{\"outlinewidth\":0,\"ticks\":\"\"}},\"colorscale\":{\"sequential\":[[0.0,\"#0d0887\"],[0.1111111111111111,\"#46039f\"],[0.2222222222222222,\"#7201a8\"],[0.3333333333333333,\"#9c179e\"],[0.4444444444444444,\"#bd3786\"],[0.5555555555555556,\"#d8576b\"],[0.6666666666666666,\"#ed7953\"],[0.7777777777777778,\"#fb9f3a\"],[0.8888888888888888,\"#fdca26\"],[1.0,\"#f0f921\"]],\"sequentialminus\":[[0.0,\"#0d0887\"],[0.1111111111111111,\"#46039f\"],[0.2222222222222222,\"#7201a8\"],[0.3333333333333333,\"#9c179e\"],[0.4444444444444444,\"#bd3786\"],[0.5555555555555556,\"#d8576b\"],[0.6666666666666666,\"#ed7953\"],[0.7777777777777778,\"#fb9f3a\"],[0.8888888888888888,\"#fdca26\"],[1.0,\"#f0f921\"]],\"diverging\":[[0,\"#8e0152\"],[0.1,\"#c51b7d\"],[0.2,\"#de77ae\"],[0.3,\"#f1b6da\"],[0.4,\"#fde0ef\"],[0.5,\"#f7f7f7\"],[0.6,\"#e6f5d0\"],[0.7,\"#b8e186\"],[0.8,\"#7fbc41\"],[0.9,\"#4d9221\"],[1,\"#276419\"]]},\"xaxis\":{\"gridcolor\":\"white\",\"linecolor\":\"white\",\"ticks\":\"\",\"title\":{\"standoff\":15},\"zerolinecolor\":\"white\",\"automargin\":true,\"zerolinewidth\":2},\"yaxis\":{\"gridcolor\":\"white\",\"linecolor\":\"white\",\"ticks\":\"\",\"title\":{\"standoff\":15},\"zerolinecolor\":\"white\",\"automargin\":true,\"zerolinewidth\":2},\"scene\":{\"xaxis\":{\"backgroundcolor\":\"#E5ECF6\",\"gridcolor\":\"white\",\"linecolor\":\"white\",\"showbackground\":true,\"ticks\":\"\",\"zerolinecolor\":\"white\",\"gridwidth\":2},\"yaxis\":{\"backgroundcolor\":\"#E5ECF6\",\"gridcolor\":\"white\",\"linecolor\":\"white\",\"showbackground\":true,\"ticks\":\"\",\"zerolinecolor\":\"white\",\"gridwidth\":2},\"zaxis\":{\"backgroundcolor\":\"#E5ECF6\",\"gridcolor\":\"white\",\"linecolor\":\"white\",\"showbackground\":true,\"ticks\":\"\",\"zerolinecolor\":\"white\",\"gridwidth\":2}},\"shapedefaults\":{\"line\":{\"color\":\"#2a3f5f\"}},\"annotationdefaults\":{\"arrowcolor\":\"#2a3f5f\",\"arrowhead\":0,\"arrowwidth\":1},\"geo\":{\"bgcolor\":\"white\",\"landcolor\":\"#E5ECF6\",\"subunitcolor\":\"white\",\"showland\":true,\"showlakes\":true,\"lakecolor\":\"white\"},\"title\":{\"x\":0.05},\"mapbox\":{\"style\":\"light\"}}},\"xaxis\":{\"anchor\":\"y\",\"domain\":[0.0,1.0],\"title\":{\"text\":\"Category\"}},\"yaxis\":{\"anchor\":\"x\",\"domain\":[0.0,1.0],\"title\":{\"text\":\"Values\"}},\"legend\":{\"tracegroupgap\":0},\"title\":{\"text\":\"Simple Bar Plot\"},\"barmode\":\"relative\"},                        {\"responsive\": true}                    ).then(function(){\n",
              "                            \n",
              "var gd = document.getElementById('fb6c39c0-4b69-4d94-b3e7-d0b6bbe69d17');\n",
              "var x = new MutationObserver(function (mutations, observer) {{\n",
              "        var display = window.getComputedStyle(gd).display;\n",
              "        if (!display || display === 'none') {{\n",
              "            console.log([gd, 'removed!']);\n",
              "            Plotly.purge(gd);\n",
              "            observer.disconnect();\n",
              "        }}\n",
              "}});\n",
              "\n",
              "// Listen for the removal of the full notebook cells\n",
              "var notebookContainer = gd.closest('#notebook-container');\n",
              "if (notebookContainer) {{\n",
              "    x.observe(notebookContainer, {childList: true});\n",
              "}}\n",
              "\n",
              "// Listen for the clearing of the current output cell\n",
              "var outputEl = gd.closest('.output');\n",
              "if (outputEl) {{\n",
              "    x.observe(outputEl, {childList: true});\n",
              "}}\n",
              "\n",
              "                        })                };                            </script>        </div>\n",
              "</body>\n",
              "</html>"
            ]
          },
          "metadata": {}
        }
      ]
    },
    {
      "cell_type": "code",
      "source": [
        "# 6. Create a DataFrame and add a new column based on an existing column\n",
        "import pandas as pd\n",
        "\n",
        "data = {\n",
        "    'Name': ['Alice', 'Bob', 'Charlie'],\n",
        "    'Marks': [85, 67, 92]\n",
        "}\n",
        "df = pd.DataFrame(data)\n",
        "\n",
        "df['Passed'] = df['Marks'] >= 70\n",
        "\n",
        "print(df)\n"
      ],
      "metadata": {
        "colab": {
          "base_uri": "https://localhost:8080/"
        },
        "id": "wai66zZL0Lev",
        "outputId": "4ddf5427-f8cb-4b2c-ab7e-d5637c39a3d2"
      },
      "execution_count": 7,
      "outputs": [
        {
          "output_type": "stream",
          "name": "stdout",
          "text": [
            "      Name  Marks  Passed\n",
            "0    Alice     85    True\n",
            "1      Bob     67   False\n",
            "2  Charlie     92    True\n"
          ]
        }
      ]
    },
    {
      "cell_type": "code",
      "source": [
        "# 7. Write a program to perform element-wise multiplication of two NumPy arrays\n",
        "import numpy as np\n",
        "\n",
        "a = np.array([1, 2, 3, 4])\n",
        "b = np.array([5, 6, 7, 8])\n",
        "\n",
        "result = a * b\n",
        "\n",
        "print(\"Array A:\", a)\n",
        "print(\"Array B:\", b)\n",
        "print(\"Element-wise Multiplication:\", result)\n"
      ],
      "metadata": {
        "colab": {
          "base_uri": "https://localhost:8080/"
        },
        "id": "8aS_eKh30WUT",
        "outputId": "174b9d46-c571-4564-a16e-01e787e0ea4a"
      },
      "execution_count": 8,
      "outputs": [
        {
          "output_type": "stream",
          "name": "stdout",
          "text": [
            "Array A: [1 2 3 4]\n",
            "Array B: [5 6 7 8]\n",
            "Element-wise Multiplication: [ 5 12 21 32]\n"
          ]
        }
      ]
    },
    {
      "cell_type": "code",
      "source": [
        "# 8. Create a line plot with multiple lines using Matplotlib.\n",
        "import matplotlib.pyplot as plt\n",
        "\n",
        "x = [1, 2, 3, 4, 5]\n",
        "y1 = [2, 4, 6, 8, 10]\n",
        "y2 = [1, 3, 5, 7, 9]\n",
        "y3 = [5, 7, 2, 4, 6]\n",
        "\n",
        "plt.plot(x, y1, label='Line 1', color='blue')\n",
        "plt.plot(x, y2, label='Line 2', color='green')\n",
        "plt.plot(x, y3, label='Line 3', color='red')\n",
        "\n",
        "plt.title(\"Multiple Line Plot\")\n",
        "plt.xlabel(\"X-axis\")\n",
        "plt.ylabel(\"Y-axis\")\n",
        "plt.legend()\n",
        "plt.grid(True)\n",
        "plt.show()\n"
      ],
      "metadata": {
        "colab": {
          "base_uri": "https://localhost:8080/",
          "height": 472
        },
        "id": "197OI6S10m-k",
        "outputId": "f649ba78-ccac-4172-da29-a77e71e33a68"
      },
      "execution_count": 9,
      "outputs": [
        {
          "output_type": "display_data",
          "data": {
            "text/plain": [
              "<Figure size 640x480 with 1 Axes>"
            ],
            "image/png": "[encoded data removed]"
          },
          "metadata": {}
        }
      ]
    },
    {
      "cell_type": "code",
      "source": [
        "# 9. Generate a Pandas DataFrame and filter rows where a column value is greater than a threshold\n",
        "import pandas as pd\n",
        "\n",
        "data = {\n",
        "    'Name': ['Alice', 'Bob', 'Charlie', 'David'],\n",
        "    'Score': [85, 60, 92, 45]\n",
        "}\n",
        "df = pd.DataFrame(data)\n",
        "\n",
        "filtered_df = df[df['Score'] > 70]\n",
        "\n",
        "print(filtered_df)\n"
      ],
      "metadata": {
        "colab": {
          "base_uri": "https://localhost:8080/"
        },
        "id": "7XwykWaW0zRD",
        "outputId": "7f4eb33e-88b3-4b4a-fc6b-4eb1363c8d5a"
      },
      "execution_count": 10,
      "outputs": [
        {
          "output_type": "stream",
          "name": "stdout",
          "text": [
            "      Name  Score\n",
            "0    Alice     85\n",
            "2  Charlie     92\n"
          ]
        }
      ]
    },
    {
      "cell_type": "code",
      "source": [
        "# 10  Create a histogram using Seaborn to visualize a distribution.\n",
        "import seaborn as sns\n",
        "import matplotlib.pyplot as plt\n",
        "\n",
        "data = [65, 70, 75, 80, 85, 70, 60, 90, 85, 78, 72, 66, 88]\n",
        "\n",
        "sns.histplot(data, bins=6, kde=True, color='skyblue')\n",
        "\n",
        "plt.title(\"Score Distribution\")\n",
        "plt.xlabel(\"Scores\")\n",
        "plt.ylabel(\"Frequency\")\n",
        "plt.show()\n"
      ],
      "metadata": {
        "colab": {
          "base_uri": "https://localhost:8080/",
          "height": 472
        },
        "id": "kW5NwQK-1BKE",
        "outputId": "1735ad4c-41f9-4f9d-8370-b3fc1488c329"
      },
      "execution_count": 11,
      "outputs": [
        {
          "output_type": "display_data",
          "data": {
            "text/plain": [
              "<Figure size 640x480 with 1 Axes>"
            ],
            "image/png": "[encoded data removed]"
          },
          "metadata": {}
        }
      ]
    },
    {
      "cell_type": "code",
      "source": [
        "# 11. Perform matrix multiplication using NumPy.\n",
        "import numpy as np\n",
        "\n",
        "A = np.array([[1, 2],\n",
        "              [3, 4]])\n",
        "\n",
        "B = np.array([[5, 6],\n",
        "              [7, 8]])\n",
        "\n",
        "result = np.dot(A, B)\n",
        "\n",
        "print(\"Matrix A:\\n\", A)\n",
        "print(\"Matrix B:\\n\", B)\n",
        "print(\"Matrix Multiplication Result:\\n\", result)\n"
      ],
      "metadata": {
        "colab": {
          "base_uri": "https://localhost:8080/"
        },
        "id": "ueDzdyWa1Lr6",
        "outputId": "11d3cfd4-02a1-43a0-8a8c-6513850af414"
      },
      "execution_count": 12,
      "outputs": [
        {
          "output_type": "stream",
          "name": "stdout",
          "text": [
            "Matrix A:\n",
            " [[1 2]\n",
            " [3 4]]\n",
            "Matrix B:\n",
            " [[5 6]\n",
            " [7 8]]\n",
            "Matrix Multiplication Result:\n",
            " [[19 22]\n",
            " [43 50]]\n"
          ]
        }
      ]
    },
    {
      "cell_type": "code",
      "source": [
        "# 12. Use Pandas to load a CSV file and display its first 5 rows.\n",
        "from google.colab import files\n",
        "uploaded = files.upload()\n",
        "\n",
        "import pandas as pd\n",
        "df = pd.read_csv('your_file.csv')  # file you uploaded\n",
        "print(df.head())"
      ],
      "metadata": {
        "colab": {
          "base_uri": "https://localhost:8080/",
          "height": 38
        },
        "id": "ncUahKAj2KfG",
        "outputId": "3844daee-0749-4921-87f4-7f1222c2516f"
      },
      "execution_count": null,
      "outputs": [
        {
          "output_type": "display_data",
          "data": {
            "text/plain": [
              "<IPython.core.display.HTML object>"
            ],
            "text/html": [
              "\n",
              "     <input type=\"file\" id=\"files-b1a1a48c-f878-4886-8894-61d20c70bdfd\" name=\"files[]\" multiple disabled\n",
              "        style=\"border:none\" />\n",
              "     <output id=\"result-b1a1a48c-f878-4886-8894-61d20c70bdfd\">\n",
              "      Upload widget is only available when the cell has been executed in the\n",
              "      current browser session. Please rerun this cell to enable.\n",
              "      </output>\n",
              "      <script>// Copyright 2017 Google LLC\n",
              "//\n",
              "// Licensed under the Apache License, Version 2.0 (the \"License\");\n",
              "// you may not use this file except in compliance with the License.\n",
              "// You may obtain a copy of the License at\n",
              "//\n",
              "//      http://www.apache.org/licenses/LICENSE-2.0\n",
              "//\n",
              "// Unless required by applicable law or agreed to in writing, software\n",
              "// distributed under the License is distributed on an \"AS IS\" BASIS,\n",
              "// WITHOUT WARRANTIES OR CONDITIONS OF ANY KIND, either express or implied.\n",
              "// See the License for the specific language governing permissions and\n",
              "// limitations under the License.\n",
              "\n",
              "/**\n",
              " * @fileoverview Helpers for google.colab Python module.\n",
              " */\n",
              "(function(scope) {\n",
              "function span(text, styleAttributes = {}) {\n",
              "  const element = document.createElement('span');\n",
              "  element.textContent = text;\n",
              "  for (const key of Object.keys(styleAttributes)) {\n",
              "    element.style[key] = styleAttributes[key];\n",
              "  }\n",
              "  return element;\n",
              "}\n",
              "\n",
              "// Max number of bytes which will be uploaded at a time.\n",
              "const MAX_PAYLOAD_SIZE = 100 * 1024;\n",
              "\n",
              "function _uploadFiles(inputId, outputId) {\n",
              "  const steps = uploadFilesStep(inputId, outputId);\n",
              "  const outputElement = document.getElementById(outputId);\n",
              "  // Cache steps on the outputElement to make it available for the next call\n",
              "  // to uploadFilesContinue from Python.\n",
              "  outputElement.steps = steps;\n",
              "\n",
              "  return _uploadFilesContinue(outputId);\n",
              "}\n",
              "\n",
              "// This is roughly an async generator (not supported in the browser yet),\n",
              "// where there are multiple asynchronous steps and the Python side is going\n",
              "// to poll for completion of each step.\n",
              "// This uses a Promise to block the python side on completion of each step,\n",
              "// then passes the result of the previous step as the input to the next step.\n",
              "function _uploadFilesContinue(outputId) {\n",
              "  const outputElement = document.getElementById(outputId);\n",
              "  const steps = outputElement.steps;\n",
              "\n",
              "  const next = steps.next(outputElement.lastPromiseValue);\n",
              "  return Promise.resolve(next.value.promise).then((value) => {\n",
              "    // Cache the last promise value to make it available to the next\n",
              "    // step of the generator.\n",
              "    outputElement.lastPromiseValue = value;\n",
              "    return next.value.response;\n",
              "  });\n",
              "}\n",
              "\n",
              "/**\n",
              " * Generator function which is called between each async step of the upload\n",
              " * process.\n",
              " * @param {string} inputId Element ID of the input file picker element.\n",
              " * @param {string} outputId Element ID of the output display.\n",
              " * @return {!Iterable<!Object>} Iterable of next steps.\n",
              " */\n",
              "function* uploadFilesStep(inputId, outputId) {\n",
              "  const inputElement = document.getElementById(inputId);\n",
              "  inputElement.disabled = false;\n",
              "\n",
              "  const outputElement = document.getElementById(outputId);\n",
              "  outputElement.innerHTML = '';\n",
              "\n",
              "  const pickedPromise = new Promise((resolve) => {\n",
              "    inputElement.addEventListener('change', (e) => {\n",
              "      resolve(e.target.files);\n",
              "    });\n",
              "  });\n",
              "\n",
              "  const cancel = document.createElement('button');\n",
              "  inputElement.parentElement.appendChild(cancel);\n",
              "  cancel.textContent = 'Cancel upload';\n",
              "  const cancelPromise = new Promise((resolve) => {\n",
              "    cancel.onclick = () => {\n",
              "      resolve(null);\n",
              "    };\n",
              "  });\n",
              "\n",
              "  // Wait for the user to pick the files.\n",
              "  const files = yield {\n",
              "    promise: Promise.race([pickedPromise, cancelPromise]),\n",
              "    response: {\n",
              "      action: 'starting',\n",
              "    }\n",
              "  };\n",
              "\n",
              "  cancel.remove();\n",
              "\n",
              "  // Disable the input element since further picks are not allowed.\n",
              "  inputElement.disabled = true;\n",
              "\n",
              "  if (!files) {\n",
              "    return {\n",
              "      response: {\n",
              "        action: 'complete',\n",
              "      }\n",
              "    };\n",
              "  }\n",
              "\n",
              "  for (const file of files) {\n",
              "    const li = document.createElement('li');\n",
              "    li.append(span(file.name, {fontWeight: 'bold'}));\n",
              "    li.append(span(\n",
              "        `(${file.type || 'n/a'}) - ${file.size} bytes, ` +\n",
              "        `last modified: ${\n",
              "            file.lastModifiedDate ? file.lastModifiedDate.toLocaleDateString() :\n",
              "                                    'n/a'} - `));\n",
              "    const percent = span('0% done');\n",
              "    li.appendChild(percent);\n",
              "\n",
              "    outputElement.appendChild(li);\n",
              "\n",
              "    const fileDataPromise = new Promise((resolve) => {\n",
              "      const reader = new FileReader();\n",
              "      reader.onload = (e) => {\n",
              "        resolve(e.target.result);\n",
              "      };\n",
              "      reader.readAsArrayBuffer(file);\n",
              "    });\n",
              "    // Wait for the data to be ready.\n",
              "    let fileData = yield {\n",
              "      promise: fileDataPromise,\n",
              "      response: {\n",
              "        action: 'continue',\n",
              "      }\n",
              "    };\n",
              "\n",
              "    // Use a chunked sending to avoid message size limits. See b/62115660.\n",
              "    let position = 0;\n",
              "    do {\n",
              "      const length = Math.min(fileData.byteLength - position, MAX_PAYLOAD_SIZE);\n",
              "      const chunk = new Uint8Array(fileData, position, length);\n",
              "      position += length;\n",
              "\n",
              "      const base64 = btoa(String.fromCharCode.apply(null, chunk));\n",
              "      yield {\n",
              "        response: {\n",
              "          action: 'append',\n",
              "          file: file.name,\n",
              "          data: base64,\n",
              "        },\n",
              "      };\n",
              "\n",
              "      let percentDone = fileData.byteLength === 0 ?\n",
              "          100 :\n",
              "          Math.round((position / fileData.byteLength) * 100);\n",
              "      percent.textContent = `${percentDone}% done`;\n",
              "\n",
              "    } while (position < fileData.byteLength);\n",
              "  }\n",
              "\n",
              "  // All done.\n",
              "  yield {\n",
              "    response: {\n",
              "      action: 'complete',\n",
              "    }\n",
              "  };\n",
              "}\n",
              "\n",
              "scope.google = scope.google || {};\n",
              "scope.google.colab = scope.google.colab || {};\n",
              "scope.google.colab._files = {\n",
              "  _uploadFiles,\n",
              "  _uploadFilesContinue,\n",
              "};\n",
              "})(self);\n",
              "</script> "
            ]
          },
          "metadata": {}
        }
      ]
    },
    {
      "cell_type": "code",
      "source": [
        "# 13. A Create a 3D scatter plot using Plotly.\n",
        "import plotly.express as px\n",
        "import pandas as pd\n",
        "\n",
        "data = {\n",
        "    'X': [1, 2, 3, 4, 5],\n",
        "    'Y': [10, 15, 13, 17, 12],\n",
        "    'Z': [5, 8, 6, 9, 7],\n",
        "    'Label': ['A', 'B', 'C', 'D', 'E']\n",
        "}\n",
        "\n",
        "df = pd.DataFrame(data)\n",
        "\n",
        "fig = px.scatter_3d(df, x='X', y='Y', z='Z', color='Label', title='3D Scatter Plot')\n",
        "fig.show()\n"
      ],
      "metadata": {
        "id": "5vsFOrng2TbP"
      },
      "execution_count": null,
      "outputs": []
    }
  ]
}